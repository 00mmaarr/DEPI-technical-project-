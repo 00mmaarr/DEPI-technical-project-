{
 "cells": [
  {
   "cell_type": "markdown",
   "id": "bcdcae55-0b27-4ef5-bd78-df3d4b20d5a5",
   "metadata": {},
   "source": [
    "# Milestone 3"
   ]
  },
  {
   "cell_type": "markdown",
   "id": "1315efbc-308c-4848-98a7-1340d5cef533",
   "metadata": {},
   "source": [
    "## Predictive Model Development and Optimization"
   ]
  },
  {
   "cell_type": "markdown",
   "id": "d7c519e2-0656-4044-91a3-3426a6185aa6",
   "metadata": {},
   "source": [
    "### 1. Model Selection:"
   ]
  },
  {
   "cell_type": "code",
   "execution_count": 1,
   "id": "074a441c-6e9b-4dd7-8119-c9b89358b580",
   "metadata": {},
   "outputs": [],
   "source": [
    "import pandas as pd\n",
    "import numpy as np\n",
    "from sklearn.model_selection import train_test_split,cross_val_score\n",
    "from sklearn.preprocessing import StandardScaler\n",
    "from sklearn.linear_model import LogisticRegression\n",
    "from sklearn.model_selection import RandomizedSearchCV\n",
    "from sklearn.model_selection import GridSearchCV\n",
    "from sklearn.metrics import classification_report\n",
    "from sklearn.ensemble import RandomForestClassifier, GradientBoostingClassifier\n",
    "from sklearn.neural_network import MLPClassifier\n",
    "from sklearn.metrics import accuracy_score, precision_score, recall_score, f1_score,roc_auc_score, confusion_matrix\n",
    "import seaborn as sns\n",
    "import matplotlib.pyplot as plt\n",
    "import warnings\n",
    "warnings.filterwarnings('ignore')"
   ]
  },
  {
   "cell_type": "code",
   "execution_count": 3,
   "id": "dbc22510-5b7b-4622-91e8-4de6b612f82f",
   "metadata": {},
   "outputs": [],
   "source": [
    "df = pd.read_csv(\"preprocessed_stroke_data.csv\")"
   ]
  },
  {
   "cell_type": "code",
   "execution_count": 5,
   "id": "2435ec35-f4f4-425a-99e7-93322a7b463a",
   "metadata": {},
   "outputs": [
    {
     "data": {
      "text/html": [
       "<div>\n",
       "<style scoped>\n",
       "    .dataframe tbody tr th:only-of-type {\n",
       "        vertical-align: middle;\n",
       "    }\n",
       "\n",
       "    .dataframe tbody tr th {\n",
       "        vertical-align: top;\n",
       "    }\n",
       "\n",
       "    .dataframe thead th {\n",
       "        text-align: right;\n",
       "    }\n",
       "</style>\n",
       "<table border=\"1\" class=\"dataframe\">\n",
       "  <thead>\n",
       "    <tr style=\"text-align: right;\">\n",
       "      <th></th>\n",
       "      <th>age</th>\n",
       "      <th>hypertension</th>\n",
       "      <th>heart_disease</th>\n",
       "      <th>avg_glucose_level</th>\n",
       "      <th>bmi</th>\n",
       "      <th>stroke</th>\n",
       "      <th>gender_Male</th>\n",
       "      <th>gender_Other</th>\n",
       "      <th>ever_married_Yes</th>\n",
       "      <th>work_type_Never_worked</th>\n",
       "      <th>work_type_Private</th>\n",
       "      <th>work_type_Self-employed</th>\n",
       "      <th>work_type_children</th>\n",
       "      <th>Residence_type_Urban</th>\n",
       "      <th>smoking_status_never smoked</th>\n",
       "      <th>smoking_status_smokes</th>\n",
       "      <th>smoking_status_unknown</th>\n",
       "    </tr>\n",
       "  </thead>\n",
       "  <tbody>\n",
       "    <tr>\n",
       "      <th>0</th>\n",
       "      <td>67.0</td>\n",
       "      <td>0</td>\n",
       "      <td>1</td>\n",
       "      <td>228.69</td>\n",
       "      <td>36.6</td>\n",
       "      <td>1</td>\n",
       "      <td>True</td>\n",
       "      <td>False</td>\n",
       "      <td>True</td>\n",
       "      <td>False</td>\n",
       "      <td>True</td>\n",
       "      <td>False</td>\n",
       "      <td>False</td>\n",
       "      <td>True</td>\n",
       "      <td>False</td>\n",
       "      <td>False</td>\n",
       "      <td>False</td>\n",
       "    </tr>\n",
       "    <tr>\n",
       "      <th>1</th>\n",
       "      <td>61.0</td>\n",
       "      <td>0</td>\n",
       "      <td>0</td>\n",
       "      <td>202.21</td>\n",
       "      <td>28.1</td>\n",
       "      <td>1</td>\n",
       "      <td>False</td>\n",
       "      <td>False</td>\n",
       "      <td>True</td>\n",
       "      <td>False</td>\n",
       "      <td>False</td>\n",
       "      <td>True</td>\n",
       "      <td>False</td>\n",
       "      <td>False</td>\n",
       "      <td>True</td>\n",
       "      <td>False</td>\n",
       "      <td>False</td>\n",
       "    </tr>\n",
       "    <tr>\n",
       "      <th>2</th>\n",
       "      <td>80.0</td>\n",
       "      <td>0</td>\n",
       "      <td>1</td>\n",
       "      <td>105.92</td>\n",
       "      <td>32.5</td>\n",
       "      <td>1</td>\n",
       "      <td>True</td>\n",
       "      <td>False</td>\n",
       "      <td>True</td>\n",
       "      <td>False</td>\n",
       "      <td>True</td>\n",
       "      <td>False</td>\n",
       "      <td>False</td>\n",
       "      <td>False</td>\n",
       "      <td>True</td>\n",
       "      <td>False</td>\n",
       "      <td>False</td>\n",
       "    </tr>\n",
       "    <tr>\n",
       "      <th>3</th>\n",
       "      <td>49.0</td>\n",
       "      <td>0</td>\n",
       "      <td>0</td>\n",
       "      <td>171.23</td>\n",
       "      <td>34.4</td>\n",
       "      <td>1</td>\n",
       "      <td>False</td>\n",
       "      <td>False</td>\n",
       "      <td>True</td>\n",
       "      <td>False</td>\n",
       "      <td>True</td>\n",
       "      <td>False</td>\n",
       "      <td>False</td>\n",
       "      <td>True</td>\n",
       "      <td>False</td>\n",
       "      <td>True</td>\n",
       "      <td>False</td>\n",
       "    </tr>\n",
       "    <tr>\n",
       "      <th>4</th>\n",
       "      <td>79.0</td>\n",
       "      <td>1</td>\n",
       "      <td>0</td>\n",
       "      <td>174.12</td>\n",
       "      <td>24.0</td>\n",
       "      <td>1</td>\n",
       "      <td>False</td>\n",
       "      <td>False</td>\n",
       "      <td>True</td>\n",
       "      <td>False</td>\n",
       "      <td>False</td>\n",
       "      <td>True</td>\n",
       "      <td>False</td>\n",
       "      <td>False</td>\n",
       "      <td>True</td>\n",
       "      <td>False</td>\n",
       "      <td>False</td>\n",
       "    </tr>\n",
       "  </tbody>\n",
       "</table>\n",
       "</div>"
      ],
      "text/plain": [
       "    age  hypertension  heart_disease  avg_glucose_level   bmi  stroke  \\\n",
       "0  67.0             0              1             228.69  36.6       1   \n",
       "1  61.0             0              0             202.21  28.1       1   \n",
       "2  80.0             0              1             105.92  32.5       1   \n",
       "3  49.0             0              0             171.23  34.4       1   \n",
       "4  79.0             1              0             174.12  24.0       1   \n",
       "\n",
       "   gender_Male  gender_Other  ever_married_Yes  work_type_Never_worked  \\\n",
       "0         True         False              True                   False   \n",
       "1        False         False              True                   False   \n",
       "2         True         False              True                   False   \n",
       "3        False         False              True                   False   \n",
       "4        False         False              True                   False   \n",
       "\n",
       "   work_type_Private  work_type_Self-employed  work_type_children  \\\n",
       "0               True                    False               False   \n",
       "1              False                     True               False   \n",
       "2               True                    False               False   \n",
       "3               True                    False               False   \n",
       "4              False                     True               False   \n",
       "\n",
       "   Residence_type_Urban  smoking_status_never smoked  smoking_status_smokes  \\\n",
       "0                  True                        False                  False   \n",
       "1                 False                         True                  False   \n",
       "2                 False                         True                  False   \n",
       "3                  True                        False                   True   \n",
       "4                 False                         True                  False   \n",
       "\n",
       "   smoking_status_unknown  \n",
       "0                   False  \n",
       "1                   False  \n",
       "2                   False  \n",
       "3                   False  \n",
       "4                   False  "
      ]
     },
     "execution_count": 5,
     "metadata": {},
     "output_type": "execute_result"
    }
   ],
   "source": [
    "df.head()"
   ]
  },
  {
   "cell_type": "code",
   "execution_count": 7,
   "id": "9c397f84-7b48-48cc-be8b-e68951b3c6e0",
   "metadata": {},
   "outputs": [
    {
     "data": {
      "text/plain": [
       "Index(['age', 'hypertension', 'heart_disease', 'avg_glucose_level', 'bmi',\n",
       "       'stroke', 'gender_Male', 'gender_Other', 'ever_married_Yes',\n",
       "       'work_type_Never_worked', 'work_type_Private',\n",
       "       'work_type_Self-employed', 'work_type_children', 'Residence_type_Urban',\n",
       "       'smoking_status_never smoked', 'smoking_status_smokes',\n",
       "       'smoking_status_unknown'],\n",
       "      dtype='object')"
      ]
     },
     "execution_count": 7,
     "metadata": {},
     "output_type": "execute_result"
    }
   ],
   "source": [
    "df.columns"
   ]
  },
  {
   "cell_type": "code",
   "execution_count": 9,
   "id": "d92de78d-93be-4c5d-a326-1fc3113a4efa",
   "metadata": {},
   "outputs": [],
   "source": [
    "X = df.drop(columns=['stroke'])\n",
    "y = df['stroke']"
   ]
  },
  {
   "cell_type": "code",
   "execution_count": 11,
   "id": "abdbfbd7-b15a-4b3e-b64c-0a78664e2070",
   "metadata": {},
   "outputs": [],
   "source": [
    "scaler = StandardScaler()\n",
    "X_scaled = scaler.fit_transform(X)"
   ]
  },
  {
   "cell_type": "markdown",
   "id": "505b602c-782d-4506-8353-279c377fe1cc",
   "metadata": {},
   "source": [
    "### 2. Model Training:"
   ]
  },
  {
   "cell_type": "code",
   "execution_count": 14,
   "id": "6466d8b7-5c35-4ffb-86a7-5c65b9093a7c",
   "metadata": {},
   "outputs": [],
   "source": [
    "# Train/Test split\n",
    "X_train, X_test, y_train, y_test = train_test_split(X_scaled, y, test_size=0.2, random_state=42)"
   ]
  },
  {
   "cell_type": "code",
   "execution_count": 16,
   "id": "a61b197c-df40-47a7-8391-4660ec0c3321",
   "metadata": {},
   "outputs": [],
   "source": [
    "from imblearn.over_sampling import SMOTE\n",
    "smote = SMOTE(random_state=42)\n",
    "X_resampled, y_resampled = smote.fit_resample(X_train, y_train)"
   ]
  },
  {
   "cell_type": "code",
   "execution_count": 18,
   "id": "a0a48bd6-e6ac-4c00-941f-f5b304e40e75",
   "metadata": {},
   "outputs": [],
   "source": [
    "from imblearn.over_sampling import SMOTE\n",
    "from imblearn.pipeline import make_pipeline\n",
    "from sklearn.metrics import precision_recall_curve, average_precision_score\n",
    "from sklearn.utils import class_weight\n",
    "\n",
    "# Calculate class weights\n",
    "class_weights = class_weight.compute_class_weight('balanced', classes=np.unique(y_train), y=y_train)\n",
    "class_weights_dict = {0: class_weights[0], 1: class_weights[1]}\n",
    "\n",
    "# Update models to use class weights and SMOTE\n",
    "models = {\n",
    "    \"Logistic Regression\": make_pipeline(\n",
    "        SMOTE(random_state=42),\n",
    "        LogisticRegression(class_weight=class_weights_dict, max_iter=1000)\n",
    "    ),\n",
    "    \"Random Forest\": make_pipeline(\n",
    "        SMOTE(random_state=42),\n",
    "        RandomForestClassifier(n_estimators=200, class_weight=class_weights_dict, random_state=42)\n",
    "    ),\n",
    "    \"Gradient Boosting\": make_pipeline(\n",
    "        SMOTE(random_state=42),\n",
    "        GradientBoostingClassifier(n_estimators=200, random_state=42)\n",
    "    ),\n",
    "    \"Neural Network\": make_pipeline(\n",
    "        SMOTE(random_state=42),\n",
    "        MLPClassifier(hidden_layer_sizes=(100,), max_iter=500, random_state=42)\n",
    "    )\n",
    "}\n",
    "\n",
    "# Add function to find optimal threshold\n",
    "def find_optimal_threshold(model, X_test, y_test):\n",
    "    y_probs = model.predict_proba(X_test)[:, 1]\n",
    "    precision, recall, thresholds = precision_recall_curve(y_test, y_probs)\n",
    "    # Choose threshold that maximizes F1 score\n",
    "    f1_scores = 2 * (precision * recall) / (precision + recall + 1e-10)\n",
    "    optimal_idx = np.argmax(f1_scores)\n",
    "    return thresholds[optimal_idx]"
   ]
  },
  {
   "cell_type": "markdown",
   "id": "46708067-4472-4f97-985d-e5be5c3ce8fa",
   "metadata": {},
   "source": [
    "### 3. Model Evaluation: "
   ]
  },
  {
   "cell_type": "code",
   "execution_count": 21,
   "id": "1435b506-2bcc-420e-a00d-1d972e040511",
   "metadata": {},
   "outputs": [
    {
     "name": "stdout",
     "output_type": "stream",
     "text": [
      "Logistic Regression\n",
      "Accuracy: 0.9187866927592955\n",
      "Precision: 0.32786885245901637\n",
      "Recall: 0.3225806451612903\n",
      "F1 Score: 0.3252032520325203\n",
      "ROC AUC: 0.846421370967742\n",
      "Average Precision: 0.23476445805456375\n",
      "\n",
      "\n",
      "Random Forest\n",
      "Accuracy: 0.7455968688845401\n",
      "Precision: 0.15862068965517243\n",
      "Recall: 0.7419354838709677\n",
      "F1 Score: 0.26136363636363635\n",
      "ROC AUC: 0.7895581317204301\n",
      "Average Precision: 0.15593889645800857\n",
      "\n",
      "\n",
      "Gradient Boosting\n",
      "Accuracy: 0.8277886497064579\n",
      "Precision: 0.18681318681318682\n",
      "Recall: 0.5483870967741935\n",
      "F1 Score: 0.2786885245901639\n",
      "ROC AUC: 0.7914146505376345\n",
      "Average Precision: 0.15164498729232193\n",
      "\n",
      "\n",
      "Neural Network\n",
      "Accuracy: 0.9031311154598826\n",
      "Precision: 0.22388059701492538\n",
      "Recall: 0.24193548387096775\n",
      "F1 Score: 0.23255813953488372\n",
      "ROC AUC: 0.7553931451612903\n",
      "Average Precision: 0.13903001089256822\n",
      "\n",
      "\n"
     ]
    }
   ],
   "source": [
    "# Train and evaluate models with optimal thresholds\n",
    "for name, model in models.items():\n",
    "    model.fit(X_train, y_train)\n",
    "    \n",
    "    # Get optimal threshold\n",
    "    optimal_thresh = find_optimal_threshold(model, X_test, y_test)\n",
    "    y_probs = model.predict_proba(X_test)[:, 1]\n",
    "    y_pred = (y_probs >= optimal_thresh).astype(int)\n",
    "    \n",
    "    print(f\"{name}\")\n",
    "    print(\"Accuracy:\", accuracy_score(y_test, y_pred))\n",
    "    print(\"Precision:\", precision_score(y_test, y_pred))\n",
    "    print(\"Recall:\", recall_score(y_test, y_pred))\n",
    "    print(\"F1 Score:\", f1_score(y_test, y_pred))\n",
    "    print(\"ROC AUC:\", roc_auc_score(y_test, y_probs))\n",
    "    print(\"Average Precision:\", average_precision_score(y_test, y_probs))\n",
    "    print(\"\\n\")"
   ]
  },
  {
   "cell_type": "code",
   "execution_count": 25,
   "id": "8b6cc590-43e2-4676-b61e-003ad3b3cd7c",
   "metadata": {},
   "outputs": [
    {
     "data": {
      "text/html": [
       "<div>\n",
       "<style scoped>\n",
       "    .dataframe tbody tr th:only-of-type {\n",
       "        vertical-align: middle;\n",
       "    }\n",
       "\n",
       "    .dataframe tbody tr th {\n",
       "        vertical-align: top;\n",
       "    }\n",
       "\n",
       "    .dataframe thead th {\n",
       "        text-align: right;\n",
       "    }\n",
       "</style>\n",
       "<table border=\"1\" class=\"dataframe\">\n",
       "  <thead>\n",
       "    <tr style=\"text-align: right;\">\n",
       "      <th></th>\n",
       "      <th>Model</th>\n",
       "      <th>Accuracy</th>\n",
       "      <th>Precision</th>\n",
       "      <th>Recall</th>\n",
       "      <th>F1 Score</th>\n",
       "      <th>ROC AUC</th>\n",
       "      <th>Avg Precision</th>\n",
       "    </tr>\n",
       "  </thead>\n",
       "  <tbody>\n",
       "    <tr>\n",
       "      <th>0</th>\n",
       "      <td>Logistic Regression</td>\n",
       "      <td>0.918787</td>\n",
       "      <td>0.327869</td>\n",
       "      <td>0.322581</td>\n",
       "      <td>0.325203</td>\n",
       "      <td>0.846421</td>\n",
       "      <td>0.234764</td>\n",
       "    </tr>\n",
       "    <tr>\n",
       "      <th>1</th>\n",
       "      <td>Random Forest</td>\n",
       "      <td>0.745597</td>\n",
       "      <td>0.158621</td>\n",
       "      <td>0.741935</td>\n",
       "      <td>0.261364</td>\n",
       "      <td>0.789558</td>\n",
       "      <td>0.155939</td>\n",
       "    </tr>\n",
       "    <tr>\n",
       "      <th>2</th>\n",
       "      <td>Gradient Boosting</td>\n",
       "      <td>0.827789</td>\n",
       "      <td>0.186813</td>\n",
       "      <td>0.548387</td>\n",
       "      <td>0.278689</td>\n",
       "      <td>0.791415</td>\n",
       "      <td>0.151645</td>\n",
       "    </tr>\n",
       "    <tr>\n",
       "      <th>3</th>\n",
       "      <td>Neural Network</td>\n",
       "      <td>0.903131</td>\n",
       "      <td>0.223881</td>\n",
       "      <td>0.241935</td>\n",
       "      <td>0.232558</td>\n",
       "      <td>0.755393</td>\n",
       "      <td>0.139030</td>\n",
       "    </tr>\n",
       "  </tbody>\n",
       "</table>\n",
       "</div>"
      ],
      "text/plain": [
       "                 Model  Accuracy  Precision    Recall  F1 Score   ROC AUC  \\\n",
       "0  Logistic Regression  0.918787   0.327869  0.322581  0.325203  0.846421   \n",
       "1        Random Forest  0.745597   0.158621  0.741935  0.261364  0.789558   \n",
       "2    Gradient Boosting  0.827789   0.186813  0.548387  0.278689  0.791415   \n",
       "3       Neural Network  0.903131   0.223881  0.241935  0.232558  0.755393   \n",
       "\n",
       "   Avg Precision  \n",
       "0       0.234764  \n",
       "1       0.155939  \n",
       "2       0.151645  \n",
       "3       0.139030  "
      ]
     },
     "execution_count": 25,
     "metadata": {},
     "output_type": "execute_result"
    }
   ],
   "source": [
    "results = []\n",
    "\n",
    "for name, model in models.items():\n",
    "    model.fit(X_train, y_train)\n",
    "\n",
    "    # Get optimal threshold\n",
    "    optimal_thresh = find_optimal_threshold(model, X_test, y_test)\n",
    "    y_probs = model.predict_proba(X_test)[:, 1]\n",
    "    y_pred = (y_probs >= optimal_thresh).astype(int)\n",
    "\n",
    "    # Collect metrics\n",
    "    results.append({\n",
    "        \"Model\": name,\n",
    "        \"Accuracy\": accuracy_score(y_test, y_pred),\n",
    "        \"Precision\": precision_score(y_test, y_pred),\n",
    "        \"Recall\": recall_score(y_test, y_pred),\n",
    "        \"F1 Score\": f1_score(y_test, y_pred),\n",
    "        \"ROC AUC\": roc_auc_score(y_test, y_probs),\n",
    "        \"Avg Precision\": average_precision_score(y_test, y_probs)\n",
    "    })\n",
    "\n",
    "# Create a DataFrame\n",
    "results_df = pd.DataFrame(results)\n",
    "results_df"
   ]
  },
  {
   "cell_type": "code",
   "execution_count": 29,
   "id": "c4adff2e-a8aa-4f51-9fad-513e580ca9d5",
   "metadata": {},
   "outputs": [
    {
     "data": {
      "image/png": "[encoded data removed]",
      "text/plain": [
       "<Figure size 1400x700 with 1 Axes>"
      ]
     },
     "metadata": {},
     "output_type": "display_data"
    }
   ],
   "source": [
    "metrics_to_plot = ['Accuracy', 'Precision', 'Recall', 'F1 Score', 'ROC AUC', 'Avg Precision']\n",
    "\n",
    "results_df.set_index(\"Model\")[metrics_to_plot].plot(kind='bar', figsize=(14, 7))\n",
    "plt.title('Model Performance Comparison')\n",
    "plt.ylabel('Score')\n",
    "plt.ylim(0, 1.05)\n",
    "plt.grid(axis='y')\n",
    "plt.legend(loc='lower right')\n",
    "plt.xticks(rotation=45)\n",
    "plt.tight_layout()\n",
    "plt.show()"
   ]
  },
  {
   "cell_type": "markdown",
   "id": "71d5b1ba-cd8d-4cba-b9c9-a8fc5f684b84",
   "metadata": {},
   "source": [
    "### 4. Model Optimization:"
   ]
  },
  {
   "cell_type": "code",
   "execution_count": 33,
   "id": "76d8add7-415e-4db2-8f4c-31d70c6d2a88",
   "metadata": {},
   "outputs": [
    {
     "name": "stdout",
     "output_type": "stream",
     "text": [
      "Best parameters from Random Search:\n",
      "{'n_estimators': 100, 'max_depth': None}\n"
     ]
    }
   ],
   "source": [
    "rf = RandomForestClassifier(random_state=42)\n",
    "\n",
    "random_grid = {\n",
    "    'n_estimators': [100, 200, 300, 500],\n",
    "    'max_depth': [None, 10, 20, 30]\n",
    "}\n",
    "\n",
    "rf_random_search = RandomizedSearchCV(estimator=rf,\n",
    "                                      param_distributions=random_grid,\n",
    "                                      n_iter=30,\n",
    "                                      cv=5,\n",
    "                                      random_state=42,\n",
    "                                      scoring='f1')\n",
    "\n",
    "rf_random_search.fit(X_train, y_train)\n",
    "\n",
    "print(\"Best parameters from Random Search:\")\n",
    "print(rf_random_search.best_params_)\n"
   ]
  },
  {
   "cell_type": "code",
   "execution_count": 35,
   "id": "88b7f1e5-193a-46ec-a300-ed7936cbebfd",
   "metadata": {},
   "outputs": [
    {
     "name": "stdout",
     "output_type": "stream",
     "text": [
      "Best parameters from Grid Search:\n",
      "{'max_depth': None, 'n_estimators': 100}\n",
      "Confusion Matrix:\n",
      " [[960   0]\n",
      " [ 62   0]]\n",
      "\n",
      "Classification Report:\n",
      "               precision    recall  f1-score   support\n",
      "\n",
      "           0       0.94      1.00      0.97       960\n",
      "           1       0.00      0.00      0.00        62\n",
      "\n",
      "    accuracy                           0.94      1022\n",
      "   macro avg       0.47      0.50      0.48      1022\n",
      "weighted avg       0.88      0.94      0.91      1022\n",
      "\n"
     ]
    }
   ],
   "source": [
    "param_grid = {\n",
    "    'n_estimators': [rf_random_search.best_params_['n_estimators']],\n",
    "}\n",
    "\n",
    "# Only include max_depth in param_grid if it's not None in best_params_\n",
    "if rf_random_search.best_params_['max_depth'] is not None:\n",
    "    param_grid['max_depth'] = [\n",
    "        rf_random_search.best_params_['max_depth'] - 5,\n",
    "        rf_random_search.best_params_['max_depth']\n",
    "    ]\n",
    "else:\n",
    "    # You might want to specify some reasonable range if best was None\n",
    "    param_grid['max_depth'] = [5, 10, None]  # Example values\n",
    "\n",
    "rf_grid_search = GridSearchCV(estimator=rf,\n",
    "                            param_grid=param_grid,\n",
    "                            cv=5,\n",
    "                            scoring='f1')\n",
    "\n",
    "rf_grid_search.fit(X_train, y_train)\n",
    "best_model = rf_grid_search.best_estimator_\n",
    "\n",
    "print(\"Best parameters from Grid Search:\")\n",
    "print(rf_grid_search.best_params_)\n",
    "\n",
    "y_pred = rf_grid_search.predict(X_test)\n",
    "\n",
    "print(\"Confusion Matrix:\\n\", confusion_matrix(y_test, y_pred))\n",
    "print(\"\\nClassification Report:\\n\", classification_report(y_test, y_pred))"
   ]
  },
  {
   "cell_type": "code",
   "execution_count": 37,
   "id": "f177d023-5f51-4af8-9d26-6324e21e91fc",
   "metadata": {},
   "outputs": [],
   "source": [
    "import pickle"
   ]
  },
  {
   "cell_type": "code",
   "execution_count": 39,
   "id": "58c1e15d-c1de-471c-8854-b597e2006fd9",
   "metadata": {},
   "outputs": [],
   "source": [
    "pickle.dump(best_model, open('stroke_model.pkl', 'wb'))"
   ]
  },
  {
   "cell_type": "code",
   "execution_count": 41,
   "id": "e9141ae6-47e4-4ffb-886b-453971d399ab",
   "metadata": {},
   "outputs": [],
   "source": [
    "# Save the feature columns used during training\n",
    "columns = X.columns\n",
    "with open('model_columns.pkl', 'wb') as f:\n",
    "    pickle.dump(columns, f)\n"
   ]
  },
  {
   "cell_type": "code",
   "execution_count": 43,
   "id": "5dd57a65-805f-4010-812b-b49bfcf26f2b",
   "metadata": {},
   "outputs": [],
   "source": [
    "scaler = StandardScaler()\n",
    "X_scaled = scaler.fit_transform(X)\n",
    "pickle.dump(scaler, open('scaler.pkl', 'wb'))  # Save it"
   ]
  },
  {
   "cell_type": "code",
   "execution_count": null,
   "id": "035da71a-4962-45e0-9810-ff0b571e73f8",
   "metadata": {},
   "outputs": [],
   "source": []
  }
 ],
 "metadata": {
  "kernelspec": {
   "display_name": "Python 3 (ipykernel)",
   "language": "python",
   "name": "python3"
  },
  "language_info": {
   "codemirror_mode": {
    "name": "ipython",
    "version": 3
   },
   "file_extension": ".py",
   "mimetype": "text/x-python",
   "name": "python",
   "nbconvert_exporter": "python",
   "pygments_lexer": "ipython3",
   "version": "3.12.7"
  }
 },
 "nbformat": 4,
 "nbformat_minor": 5
}
