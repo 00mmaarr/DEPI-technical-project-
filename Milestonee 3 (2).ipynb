{
 "cells": [
  {
   "cell_type": "markdown",
   "id": "bcdcae55-0b27-4ef5-bd78-df3d4b20d5a5",
   "metadata": {},
   "source": [
    "# Milestone 3"
   ]
  },
  {
   "cell_type": "markdown",
   "id": "1315efbc-308c-4848-98a7-1340d5cef533",
   "metadata": {},
   "source": [
    "## Predictive Model Development and Optimization"
   ]
  },
  {
   "cell_type": "markdown",
   "id": "d7c519e2-0656-4044-91a3-3426a6185aa6",
   "metadata": {},
   "source": [
    "### 1. Model Selection:"
   ]
  },
  {
   "cell_type": "code",
   "execution_count": 88,
   "id": "074a441c-6e9b-4dd7-8119-c9b89358b580",
   "metadata": {},
   "outputs": [],
   "source": [
    "import pandas as pd\n",
    "from sklearn.model_selection import train_test_split,cross_val_score\n",
    "from sklearn.preprocessing import StandardScaler\n",
    "from sklearn.linear_model import LogisticRegression\n",
    "from sklearn.model_selection import RandomizedSearchCV\n",
    "from sklearn.model_selection import GridSearchCV\n",
    "from sklearn.metrics import classification_report\n",
    "from sklearn.ensemble import RandomForestClassifier, GradientBoostingClassifier\n",
    "from sklearn.neural_network import MLPClassifier\n",
    "from sklearn.metrics import accuracy_score, precision_score, recall_score, f1_score,roc_auc_score, confusion_matrix\n",
    "import seaborn as sns\n",
    "import matplotlib.pyplot as plt\n",
    "import warnings\n",
    "warnings.filterwarnings('ignore')"
   ]
  },
  {
   "cell_type": "code",
   "execution_count": 6,
   "id": "dbc22510-5b7b-4622-91e8-4de6b612f82f",
   "metadata": {},
   "outputs": [],
   "source": [
    "df = pd.read_csv(\"preprocessed_stroke_data.csv\")"
   ]
  },
  {
   "cell_type": "code",
   "execution_count": 8,
   "id": "2435ec35-f4f4-425a-99e7-93322a7b463a",
   "metadata": {},
   "outputs": [
    {
     "data": {
      "text/html": [
       "<div>\n",
       "<style scoped>\n",
       "    .dataframe tbody tr th:only-of-type {\n",
       "        vertical-align: middle;\n",
       "    }\n",
       "\n",
       "    .dataframe tbody tr th {\n",
       "        vertical-align: top;\n",
       "    }\n",
       "\n",
       "    .dataframe thead th {\n",
       "        text-align: right;\n",
       "    }\n",
       "</style>\n",
       "<table border=\"1\" class=\"dataframe\">\n",
       "  <thead>\n",
       "    <tr style=\"text-align: right;\">\n",
       "      <th></th>\n",
       "      <th>age</th>\n",
       "      <th>hypertension</th>\n",
       "      <th>heart_disease</th>\n",
       "      <th>avg_glucose_level</th>\n",
       "      <th>bmi</th>\n",
       "      <th>stroke</th>\n",
       "      <th>gender_Male</th>\n",
       "      <th>gender_Other</th>\n",
       "      <th>ever_married_Yes</th>\n",
       "      <th>work_type_Never_worked</th>\n",
       "      <th>work_type_Private</th>\n",
       "      <th>work_type_Self-employed</th>\n",
       "      <th>work_type_children</th>\n",
       "      <th>Residence_type_Urban</th>\n",
       "      <th>smoking_status_never smoked</th>\n",
       "      <th>smoking_status_smokes</th>\n",
       "      <th>smoking_status_unknown</th>\n",
       "    </tr>\n",
       "  </thead>\n",
       "  <tbody>\n",
       "    <tr>\n",
       "      <th>0</th>\n",
       "      <td>67.0</td>\n",
       "      <td>0</td>\n",
       "      <td>1</td>\n",
       "      <td>228.69</td>\n",
       "      <td>36.6</td>\n",
       "      <td>1</td>\n",
       "      <td>True</td>\n",
       "      <td>False</td>\n",
       "      <td>True</td>\n",
       "      <td>False</td>\n",
       "      <td>True</td>\n",
       "      <td>False</td>\n",
       "      <td>False</td>\n",
       "      <td>True</td>\n",
       "      <td>False</td>\n",
       "      <td>False</td>\n",
       "      <td>False</td>\n",
       "    </tr>\n",
       "    <tr>\n",
       "      <th>1</th>\n",
       "      <td>61.0</td>\n",
       "      <td>0</td>\n",
       "      <td>0</td>\n",
       "      <td>202.21</td>\n",
       "      <td>28.1</td>\n",
       "      <td>1</td>\n",
       "      <td>False</td>\n",
       "      <td>False</td>\n",
       "      <td>True</td>\n",
       "      <td>False</td>\n",
       "      <td>False</td>\n",
       "      <td>True</td>\n",
       "      <td>False</td>\n",
       "      <td>False</td>\n",
       "      <td>True</td>\n",
       "      <td>False</td>\n",
       "      <td>False</td>\n",
       "    </tr>\n",
       "    <tr>\n",
       "      <th>2</th>\n",
       "      <td>80.0</td>\n",
       "      <td>0</td>\n",
       "      <td>1</td>\n",
       "      <td>105.92</td>\n",
       "      <td>32.5</td>\n",
       "      <td>1</td>\n",
       "      <td>True</td>\n",
       "      <td>False</td>\n",
       "      <td>True</td>\n",
       "      <td>False</td>\n",
       "      <td>True</td>\n",
       "      <td>False</td>\n",
       "      <td>False</td>\n",
       "      <td>False</td>\n",
       "      <td>True</td>\n",
       "      <td>False</td>\n",
       "      <td>False</td>\n",
       "    </tr>\n",
       "    <tr>\n",
       "      <th>3</th>\n",
       "      <td>49.0</td>\n",
       "      <td>0</td>\n",
       "      <td>0</td>\n",
       "      <td>171.23</td>\n",
       "      <td>34.4</td>\n",
       "      <td>1</td>\n",
       "      <td>False</td>\n",
       "      <td>False</td>\n",
       "      <td>True</td>\n",
       "      <td>False</td>\n",
       "      <td>True</td>\n",
       "      <td>False</td>\n",
       "      <td>False</td>\n",
       "      <td>True</td>\n",
       "      <td>False</td>\n",
       "      <td>True</td>\n",
       "      <td>False</td>\n",
       "    </tr>\n",
       "    <tr>\n",
       "      <th>4</th>\n",
       "      <td>79.0</td>\n",
       "      <td>1</td>\n",
       "      <td>0</td>\n",
       "      <td>174.12</td>\n",
       "      <td>24.0</td>\n",
       "      <td>1</td>\n",
       "      <td>False</td>\n",
       "      <td>False</td>\n",
       "      <td>True</td>\n",
       "      <td>False</td>\n",
       "      <td>False</td>\n",
       "      <td>True</td>\n",
       "      <td>False</td>\n",
       "      <td>False</td>\n",
       "      <td>True</td>\n",
       "      <td>False</td>\n",
       "      <td>False</td>\n",
       "    </tr>\n",
       "  </tbody>\n",
       "</table>\n",
       "</div>"
      ],
      "text/plain": [
       "    age  hypertension  heart_disease  avg_glucose_level   bmi  stroke  \\\n",
       "0  67.0             0              1             228.69  36.6       1   \n",
       "1  61.0             0              0             202.21  28.1       1   \n",
       "2  80.0             0              1             105.92  32.5       1   \n",
       "3  49.0             0              0             171.23  34.4       1   \n",
       "4  79.0             1              0             174.12  24.0       1   \n",
       "\n",
       "   gender_Male  gender_Other  ever_married_Yes  work_type_Never_worked  \\\n",
       "0         True         False              True                   False   \n",
       "1        False         False              True                   False   \n",
       "2         True         False              True                   False   \n",
       "3        False         False              True                   False   \n",
       "4        False         False              True                   False   \n",
       "\n",
       "   work_type_Private  work_type_Self-employed  work_type_children  \\\n",
       "0               True                    False               False   \n",
       "1              False                     True               False   \n",
       "2               True                    False               False   \n",
       "3               True                    False               False   \n",
       "4              False                     True               False   \n",
       "\n",
       "   Residence_type_Urban  smoking_status_never smoked  smoking_status_smokes  \\\n",
       "0                  True                        False                  False   \n",
       "1                 False                         True                  False   \n",
       "2                 False                         True                  False   \n",
       "3                  True                        False                   True   \n",
       "4                 False                         True                  False   \n",
       "\n",
       "   smoking_status_unknown  \n",
       "0                   False  \n",
       "1                   False  \n",
       "2                   False  \n",
       "3                   False  \n",
       "4                   False  "
      ]
     },
     "execution_count": 8,
     "metadata": {},
     "output_type": "execute_result"
    }
   ],
   "source": [
    "df.head()"
   ]
  },
  {
   "cell_type": "code",
   "execution_count": 10,
   "id": "9c397f84-7b48-48cc-be8b-e68951b3c6e0",
   "metadata": {},
   "outputs": [
    {
     "data": {
      "text/plain": [
       "Index(['age', 'hypertension', 'heart_disease', 'avg_glucose_level', 'bmi',\n",
       "       'stroke', 'gender_Male', 'gender_Other', 'ever_married_Yes',\n",
       "       'work_type_Never_worked', 'work_type_Private',\n",
       "       'work_type_Self-employed', 'work_type_children', 'Residence_type_Urban',\n",
       "       'smoking_status_never smoked', 'smoking_status_smokes',\n",
       "       'smoking_status_unknown'],\n",
       "      dtype='object')"
      ]
     },
     "execution_count": 10,
     "metadata": {},
     "output_type": "execute_result"
    }
   ],
   "source": [
    "df.columns"
   ]
  },
  {
   "cell_type": "code",
   "execution_count": 12,
   "id": "d92de78d-93be-4c5d-a326-1fc3113a4efa",
   "metadata": {},
   "outputs": [],
   "source": [
    "X = df.drop(columns=['stroke'])\n",
    "y = df['stroke']"
   ]
  },
  {
   "cell_type": "code",
   "execution_count": 14,
   "id": "abdbfbd7-b15a-4b3e-b64c-0a78664e2070",
   "metadata": {},
   "outputs": [],
   "source": [
    "scaler = StandardScaler()\n",
    "X_scaled = scaler.fit_transform(X)"
   ]
  },
  {
   "cell_type": "markdown",
   "id": "505b602c-782d-4506-8353-279c377fe1cc",
   "metadata": {},
   "source": [
    "### 2. Model Training:"
   ]
  },
  {
   "cell_type": "code",
   "execution_count": 17,
   "id": "6466d8b7-5c35-4ffb-86a7-5c65b9093a7c",
   "metadata": {},
   "outputs": [],
   "source": [
    "# Train/Test split\n",
    "X_train, X_test, y_train, y_test = train_test_split(X_scaled, y, test_size=0.2, random_state=42)"
   ]
  },
  {
   "cell_type": "code",
   "execution_count": 19,
   "id": "a0a48bd6-e6ac-4c00-941f-f5b304e40e75",
   "metadata": {},
   "outputs": [
    {
     "name": "stdout",
     "output_type": "stream",
     "text": [
      "Logistic Regression CV Accuracy: 0.9543\n",
      "Random Forest CV Accuracy: 0.9535\n",
      "Gradient Boosting CV Accuracy: 0.9516\n",
      "Neural Network CV Accuracy: 0.9445\n"
     ]
    }
   ],
   "source": [
    "# Initialize models\n",
    "models = {\n",
    "    \"Logistic Regression\": LogisticRegression(),\n",
    "    \"Random Forest\": RandomForestClassifier(n_estimators=100, random_state=42),\n",
    "    \"Gradient Boosting\": GradientBoostingClassifier(n_estimators=100, random_state=42),\n",
    "    \"Neural Network\": MLPClassifier(hidden_layer_sizes=(100,), max_iter=500, random_state=42)\n",
    "}\n",
    "\n",
    "# Perform 5-fold cross-validation\n",
    "for name, model in models.items():\n",
    "    scores = cross_val_score(model, X_train, y_train, cv=5, scoring='accuracy')\n",
    "    print(f\"{name} CV Accuracy: {scores.mean():.4f}\")\n",
    "    model.fit(X_train, y_train)"
   ]
  },
  {
   "cell_type": "markdown",
   "id": "46708067-4472-4f97-985d-e5be5c3ce8fa",
   "metadata": {},
   "source": [
    "### 3. Model Evaluation: "
   ]
  },
  {
   "cell_type": "markdown",
   "id": "61e8f1b1-1526-42d4-aa07-d5d801b2540b",
   "metadata": {},
   "source": [
    "#### Logistic Regression"
   ]
  },
  {
   "cell_type": "code",
   "execution_count": 22,
   "id": "33503275-e31f-4d9a-b62c-79a2f497a1e5",
   "metadata": {},
   "outputs": [
    {
     "name": "stdout",
     "output_type": "stream",
     "text": [
      "Logistic Regression\n",
      "Accuracy : 0.9393346379647749\n",
      "Precision: 0.0\n",
      "Recall   : 0.0\n",
      "F1 Score : 0.0\n",
      "ROC AUC  : 0.5\n"
     ]
    }
   ],
   "source": [
    "lr_model = models[\"Logistic Regression\"]\n",
    "lr_preds = lr_model.predict(X_test)\n",
    "\n",
    "print(\"Logistic Regression\")\n",
    "print(\"Accuracy :\",accuracy_score(y_test, lr_preds))\n",
    "print(\"Precision:\", precision_score(y_test, lr_preds))\n",
    "print(\"Recall   :\", recall_score(y_test, lr_preds))\n",
    "print(\"F1 Score :\", f1_score(y_test, lr_preds))\n",
    "print(\"ROC AUC  :\", roc_auc_score(y_test, lr_preds))"
   ]
  },
  {
   "cell_type": "code",
   "execution_count": 23,
   "id": "e42409aa-54e6-4daa-a5ee-70d08bcfca44",
   "metadata": {},
   "outputs": [
    {
     "data": {
      "image/png": "[encoded data removed]",
      "text/plain": [
       "<Figure size 640x480 with 2 Axes>"
      ]
     },
     "metadata": {},
     "output_type": "display_data"
    }
   ],
   "source": [
    "cm = confusion_matrix(y_test, lr_preds)\n",
    "sns.heatmap(cm, annot=True, fmt='d', cmap='Blues')\n",
    "plt.title('Logistic Regression - Confusion Matrix')\n",
    "plt.xlabel('Predicted')\n",
    "plt.ylabel('Actual')\n",
    "plt.show()"
   ]
  },
  {
   "cell_type": "markdown",
   "id": "05fe504c-3bdd-4ecf-8c2a-80ad9abbb684",
   "metadata": {},
   "source": [
    "#### Random Forest"
   ]
  },
  {
   "cell_type": "code",
   "execution_count": 25,
   "id": "f6facb80-7f77-462b-aed6-8c283e045329",
   "metadata": {},
   "outputs": [
    {
     "name": "stdout",
     "output_type": "stream",
     "text": [
      "Random Forest\n",
      "Accuracy : 0.9393346379647749\n",
      "Precision: 0.0\n",
      "Recall   : 0.0\n",
      "F1 Score : 0.0\n",
      "ROC AUC  : 0.5\n"
     ]
    }
   ],
   "source": [
    "rf_model = models[\"Random Forest\"]\n",
    "rf_preds = rf_model.predict(X_test)\n",
    "\n",
    "print(\"Random Forest\")\n",
    "print(\"Accuracy :\", accuracy_score(y_test, rf_preds))\n",
    "print(\"Precision:\", precision_score(y_test, rf_preds))\n",
    "print(\"Recall   :\", recall_score(y_test, rf_preds))\n",
    "print(\"F1 Score :\", f1_score(y_test, rf_preds))\n",
    "print(\"ROC AUC  :\", roc_auc_score(y_test, rf_preds))"
   ]
  },
  {
   "cell_type": "code",
   "execution_count": 26,
   "id": "aa2cc81c-23a2-4f1c-a4b6-aa406cb6a3d6",
   "metadata": {},
   "outputs": [
    {
     "data": {
      "image/png": "[encoded data removed]",
      "text/plain": [
       "<Figure size 640x480 with 2 Axes>"
      ]
     },
     "metadata": {},
     "output_type": "display_data"
    }
   ],
   "source": [
    "cm = confusion_matrix(y_test, rf_preds)\n",
    "sns.heatmap(cm, annot=True, fmt='d', cmap='Greens')\n",
    "plt.title('Random Forest - Confusion Matrix')\n",
    "plt.xlabel('Predicted')\n",
    "plt.ylabel('Actual')\n",
    "plt.show()"
   ]
  },
  {
   "cell_type": "markdown",
   "id": "fc1de0cd-382d-49c7-9c16-4218ee93174e",
   "metadata": {},
   "source": [
    "#### Gradient Boosting"
   ]
  },
  {
   "cell_type": "code",
   "execution_count": 28,
   "id": "8912d5b0-bec6-4b8d-af0d-823f12b1471d",
   "metadata": {},
   "outputs": [
    {
     "name": "stdout",
     "output_type": "stream",
     "text": [
      "Gradient Boosting\n",
      "Accuracy : 0.9412915851272016\n",
      "Precision: 1.0\n",
      "Recall   : 0.03225806451612903\n",
      "F1 Score : 0.0625\n",
      "ROC AUC  : 0.5161290322580645\n"
     ]
    }
   ],
   "source": [
    "gb_model = models[\"Gradient Boosting\"]\n",
    "gb_preds = gb_model.predict(X_test)\n",
    "\n",
    "print(\"Gradient Boosting\")\n",
    "print(\"Accuracy :\", accuracy_score(y_test, gb_preds))\n",
    "print(\"Precision:\", precision_score(y_test, gb_preds))\n",
    "print(\"Recall   :\", recall_score(y_test, gb_preds))\n",
    "print(\"F1 Score :\", f1_score(y_test, gb_preds))\n",
    "print(\"ROC AUC  :\", roc_auc_score(y_test, gb_preds))"
   ]
  },
  {
   "cell_type": "code",
   "execution_count": 29,
   "id": "95f228e9-d446-448a-bf11-c3210de55263",
   "metadata": {},
   "outputs": [
    {
     "data": {
      "image/png": "[encoded data removed]",
      "text/plain": [
       "<Figure size 640x480 with 2 Axes>"
      ]
     },
     "metadata": {},
     "output_type": "display_data"
    }
   ],
   "source": [
    "cm = confusion_matrix(y_test, gb_preds)\n",
    "sns.heatmap(cm, annot=True, fmt='d', cmap='Oranges')\n",
    "plt.title('Gradient Boosting - Confusion Matrix')\n",
    "plt.xlabel('Predicted')\n",
    "plt.ylabel('Actual')\n",
    "plt.show()"
   ]
  },
  {
   "cell_type": "markdown",
   "id": "8146c8cd-4063-4a23-9177-5dd0a92ee6e3",
   "metadata": {},
   "source": [
    "#### Neural Network"
   ]
  },
  {
   "cell_type": "code",
   "execution_count": 31,
   "id": "67e60b1b-06cb-46bb-a25f-6f0288523a01",
   "metadata": {},
   "outputs": [
    {
     "name": "stdout",
     "output_type": "stream",
     "text": [
      "Neural Network\n",
      "Accuracy : 0.9295499021526419\n",
      "Precision: 0.08333333333333333\n",
      "Recall   : 0.016129032258064516\n",
      "F1 Score : 0.02702702702702703\n",
      "ROC AUC  : 0.5023353494623656\n"
     ]
    }
   ],
   "source": [
    "nn_model = models[\"Neural Network\"]\n",
    "nn_preds = nn_model.predict(X_test)\n",
    "\n",
    "print(\"Neural Network\")\n",
    "print(\"Accuracy :\", accuracy_score(y_test, nn_preds))\n",
    "print(\"Precision:\", precision_score(y_test, nn_preds))\n",
    "print(\"Recall   :\", recall_score(y_test, nn_preds))\n",
    "print(\"F1 Score :\", f1_score(y_test, nn_preds))\n",
    "print(\"ROC AUC  :\", roc_auc_score(y_test, nn_preds))"
   ]
  },
  {
   "cell_type": "code",
   "execution_count": 32,
   "id": "b28296bd-d22b-4137-8b4a-846cc001d94d",
   "metadata": {},
   "outputs": [
    {
     "data": {
      "image/png": "[encoded data removed]",
      "text/plain": [
       "<Figure size 640x480 with 2 Axes>"
      ]
     },
     "metadata": {},
     "output_type": "display_data"
    }
   ],
   "source": [
    "cm = confusion_matrix(y_test, nn_preds)\n",
    "sns.heatmap(cm, annot=True, fmt='d', cmap='Purples')\n",
    "plt.title('Neural Network - Confusion Matrix')\n",
    "plt.xlabel('Predicted')\n",
    "plt.ylabel('Actual')\n",
    "plt.show()"
   ]
  },
  {
   "cell_type": "code",
   "execution_count": 33,
   "id": "b640121a-0d15-4aa2-a10d-e0738ad14df1",
   "metadata": {},
   "outputs": [],
   "source": [
    "results = [\n",
    "    {\n",
    "        \"Model\": \"Logistic Regression\",\n",
    "        \"Accuracy\": accuracy_score(y_test, lr_preds),\n",
    "        \"Precision\": precision_score(y_test, lr_preds),\n",
    "        \"Recall\": recall_score(y_test, lr_preds),\n",
    "        \"F1 Score\": f1_score(y_test, lr_preds),\n",
    "        \"ROC AUC\": roc_auc_score(y_test, lr_preds)\n",
    "    },\n",
    "    {\n",
    "        \"Model\": \"Random Forest\",\n",
    "        \"Accuracy\": accuracy_score(y_test, rf_preds),\n",
    "        \"Precision\": precision_score(y_test, rf_preds),\n",
    "        \"Recall\": recall_score(y_test, rf_preds),\n",
    "        \"F1 Score\": f1_score(y_test, rf_preds),\n",
    "        \"ROC AUC\": roc_auc_score(y_test, rf_preds)\n",
    "    },\n",
    "    {\n",
    "        \"Model\": \"Gradient Boosting\",\n",
    "        \"Accuracy\": accuracy_score(y_test, gb_preds),\n",
    "        \"Precision\": precision_score(y_test, gb_preds),\n",
    "        \"Recall\": recall_score(y_test, gb_preds),\n",
    "        \"F1 Score\": f1_score(y_test, gb_preds),\n",
    "        \"ROC AUC\": roc_auc_score(y_test, gb_preds)\n",
    "    },\n",
    "    {\n",
    "        \"Model\": \"Neural Network\",\n",
    "        \"Accuracy\": accuracy_score(y_test, nn_preds),\n",
    "        \"Precision\": precision_score(y_test, nn_preds),\n",
    "        \"Recall\": recall_score(y_test, nn_preds),\n",
    "        \"F1 Score\": f1_score(y_test, nn_preds),\n",
    "        \"ROC AUC\": roc_auc_score(y_test, nn_preds)\n",
    "    }\n",
    "]"
   ]
  },
  {
   "cell_type": "code",
   "execution_count": 34,
   "id": "cf61e30e-f450-4746-8dfb-d01c8ea97070",
   "metadata": {},
   "outputs": [
    {
     "name": "stdout",
     "output_type": "stream",
     "text": [
      "                     Accuracy  Precision    Recall  F1 Score   ROC AUC\n",
      "Model                                                                 \n",
      "Logistic Regression  0.939335   0.000000  0.000000  0.000000  0.500000\n",
      "Random Forest        0.939335   0.000000  0.000000  0.000000  0.500000\n",
      "Gradient Boosting    0.941292   1.000000  0.032258  0.062500  0.516129\n",
      "Neural Network       0.929550   0.083333  0.016129  0.027027  0.502335\n"
     ]
    }
   ],
   "source": [
    "final_result = pd.DataFrame(results)\n",
    "final_result.set_index(\"Model\", inplace=True)\n",
    "print(final_result)"
   ]
  },
  {
   "cell_type": "code",
   "execution_count": 35,
   "id": "fa828c3b-96b0-4fc8-aa18-aec26ed2019e",
   "metadata": {},
   "outputs": [
    {
     "data": {
      "image/png": "[encoded data removed]",
      "text/plain": [
       "<Figure size 2000x500 with 1 Axes>"
      ]
     },
     "metadata": {},
     "output_type": "display_data"
    }
   ],
   "source": [
    "models = final_result.index\n",
    "accuracy = final_result['Accuracy']\n",
    "recall = final_result['Recall']\n",
    "f1_score = final_result['F1 Score']\n",
    "\n",
    "fig, ax = plt.subplots(figsize=(20, 5))\n",
    "plt.plot(models, accuracy, label='Accuracy')\n",
    "plt.plot(models, recall, label='Recall')\n",
    "plt.plot(models, f1_score, label='F1 Score')\n",
    "\n",
    "plt.title('Model Performance Comparison')\n",
    "plt.xlabel('Algorithm')\n",
    "plt.ylabel('Score')\n",
    "plt.legend()\n",
    "plt.grid(True, alpha=0.6)\n",
    "\n",
    "plt.show()"
   ]
  },
  {
   "cell_type": "markdown",
   "id": "71d5b1ba-cd8d-4cba-b9c9-a8fc5f684b84",
   "metadata": {},
   "source": [
    "### 4. Model Optimization:"
   ]
  },
  {
   "cell_type": "code",
   "execution_count": null,
   "id": "76d8add7-415e-4db2-8f4c-31d70c6d2a88",
   "metadata": {},
   "outputs": [],
   "source": [
    "rf = RandomForestClassifier(random_state=42)\n",
    "\n",
    "random_grid = {\n",
    "    'n_estimators': [100, 200, 300, 500],\n",
    "    'max_depth': [None, 10, 20, 30]\n",
    "}\n",
    "\n",
    "rf_random_search = RandomizedSearchCV(estimator=rf,\n",
    "                                      param_distributions=random_grid,\n",
    "                                      n_iter=30,\n",
    "                                      cv=5,\n",
    "                                      random_state=42,\n",
    "                                      scoring='f1')\n",
    "\n",
    "rf_random_search.fit(X_train, y_train)\n",
    "\n",
    "print(\"Best parameters from Random Search:\")\n",
    "print(rf_random_search.best_params_)\n"
   ]
  },
  {
   "cell_type": "code",
   "execution_count": 93,
   "id": "88b7f1e5-193a-46ec-a300-ed7936cbebfd",
   "metadata": {},
   "outputs": [
    {
     "name": "stdout",
     "output_type": "stream",
     "text": [
      "Best parameters from Grid Search:\n",
      "{'bootstrap': False, 'max_depth': 15, 'n_estimators': 300}\n",
      "Confusion Matrix:\n",
      " [[958   2]\n",
      " [ 61   1]]\n",
      "\n",
      "Classification Report:\n",
      "               precision    recall  f1-score   support\n",
      "\n",
      "           0       0.94      1.00      0.97       960\n",
      "           1       0.33      0.02      0.03        62\n",
      "\n",
      "    accuracy                           0.94      1022\n",
      "   macro avg       0.64      0.51      0.50      1022\n",
      "weighted avg       0.90      0.94      0.91      1022\n",
      "\n"
     ]
    }
   ],
   "source": [
    "param_grid = {\n",
    "    'n_estimators': [rf_random_search.best_params_['n_estimators']],\n",
    "    'max_depth': [rf_random_search.best_params_['max_depth'] - 5,\n",
    "                  rf_random_search.best_params_['max_depth']]\n",
    "}\n",
    "\n",
    "rf_grid_search = GridSearchCV(estimator=rf,\n",
    "                              param_grid=param_grid,\n",
    "                              cv=5,\n",
    "                              scoring='f1')\n",
    "\n",
    "rf_grid_search.fit(X_train, y_train)\n",
    "best_model = rf_grid_search.best_estimator_\n",
    "\n",
    "print(\"Best parameters from Grid Search:\")\n",
    "print(rf_grid_search.best_params_)\n",
    "\n",
    "y_pred = rf_grid_search.predict(X_test)\n",
    "\n",
    "print(\"Confusion Matrix:\\n\", confusion_matrix(y_test, y_pred))\n",
    "print(\"\\nClassification Report:\\n\", classification_report(y_test, y_pred))\n"
   ]
  },
  {
   "cell_type": "code",
   "execution_count": null,
   "id": "371fb41f-b0db-46ad-a4ed-51c5a900e135",
   "metadata": {},
   "outputs": [],
   "source": []
  }
 ],
 "metadata": {
  "kernelspec": {
   "display_name": "Python 3 (ipykernel)",
   "language": "python",
   "name": "python3"
  },
  "language_info": {
   "codemirror_mode": {
    "name": "ipython",
    "version": 3
   },
   "file_extension": ".py",
   "mimetype": "text/x-python",
   "name": "python",
   "nbconvert_exporter": "python",
   "pygments_lexer": "ipython3",
   "version": "3.12.7"
  }
 },
 "nbformat": 4,
 "nbformat_minor": 5
}
